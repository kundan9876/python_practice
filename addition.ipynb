{
 "cells": [
  {
   "cell_type": "markdown",
   "id": "00e53f4a",
   "metadata": {},
   "source": [
    "#### program to find addition of two numbers"
   ]
  },
  {
   "cell_type": "code",
   "execution_count": null,
   "id": "bb0bcd18",
   "metadata": {},
   "outputs": [],
   "source": [
    "num_1=int(input(\"enter the first number :- \"))\n",
    "num_2=int(input(\"enter the second number :- \"))"
   ]
  },
  {
   "cell_type": "code",
   "execution_count": null,
   "id": "68996dda",
   "metadata": {},
   "outputs": [],
   "source": [
    "sum=num_1+num_2\n",
    "print(\"the sum of \",num_1,\"and\",num_2,\"=\",sum)"
   ]
  }
 ],
 "metadata": {
  "kernelspec": {
   "display_name": "Python 3",
   "language": "python",
   "name": "python3"
  },
  "language_info": {
   "codemirror_mode": {
    "name": "ipython",
    "version": 3
   },
   "file_extension": ".py",
   "mimetype": "text/x-python",
   "name": "python",
   "nbconvert_exporter": "python",
   "pygments_lexer": "ipython3",
   "version": "3.8.8"
  }
 },
 "nbformat": 4,
 "nbformat_minor": 5
}
